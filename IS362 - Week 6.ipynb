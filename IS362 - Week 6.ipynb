{
 "cells": [
  {
   "cell_type": "markdown",
   "metadata": {},
   "source": [
    "# Tidying Surveyed Salary Data"
   ]
  },
  {
   "cell_type": "markdown",
   "metadata": {},
   "source": [
    "## Normalizing Dataset Portion 1: Analyzing Salary by Industry"
   ]
  },
  {
   "cell_type": "markdown",
   "metadata": {},
   "source": [
    "### Upload file:"
   ]
  },
  {
   "cell_type": "code",
   "execution_count": 2,
   "metadata": {},
   "outputs": [
    {
     "name": "stdout",
     "output_type": "stream",
     "text": [
      "            Timestamp How old are you? What industry do you work in?  \\\n",
      "0  4/24/2019 11:43:21            35-44                    Government   \n",
      "1  4/24/2019 11:43:26            25-34       Environmental nonprofit   \n",
      "2  4/24/2019 11:43:27            18-24               Market Research   \n",
      "3  4/24/2019 11:43:27            25-34                 Biotechnology   \n",
      "4  4/24/2019 11:43:29            25-34                    Healthcare   \n",
      "\n",
      "                                  Job title What is your annual salary?  \\\n",
      "0          Talent Management Asst. Director                       75000   \n",
      "1                       Operations Director                      65,000   \n",
      "2                 Market Research Assistant                      36,330   \n",
      "3                          Senior Scientist                       34600   \n",
      "4  Social worker (embedded in primary care)                       55000   \n",
      "\n",
      "  Please indicate the currency Where are you located? (City/state/country)  \\\n",
      "0                          USD                               Nashville, TN   \n",
      "1                          USD                                 Madison, Wi   \n",
      "2                          USD                               Las Vegas, NV   \n",
      "3                          GBP                                 Cardiff, UK   \n",
      "4                          USD                     Southeast Michigan, USA   \n",
      "\n",
      "  How many years of post-college professional work experience do you have?  \\\n",
      "0                                      11 - 20 years                         \n",
      "1                                       8 - 10 years                         \n",
      "2                                        2 - 4 years                         \n",
      "3                                          5-7 years                         \n",
      "4                                          5-7 years                         \n",
      "\n",
      "  If your job title needs additional context, please clarify here:  \\\n",
      "0                                                NaN                 \n",
      "1                                                NaN                 \n",
      "2                                                NaN                 \n",
      "3                                                NaN                 \n",
      "4                                                NaN                 \n",
      "\n",
      "  If \"Other,\" please indicate the currency here:   \n",
      "0                                             NaN  \n",
      "1                                             NaN  \n",
      "2                                             NaN  \n",
      "3                                             NaN  \n",
      "4                                             NaN  \n"
     ]
    }
   ],
   "source": [
    "import pandas as pd\n",
    "import numpy as np\n",
    "\n",
    "path_to_file = \"C:\\\\Users\\\\kboostri\\\\OneDrive - Schrafts's 2.0 LLC\\\\Documents\\\\Salary Survey.csv\"\n",
    "\n",
    "df = pd.read_csv(path_to_file)\n",
    "\n",
    "print(df.head())"
   ]
  },
  {
   "cell_type": "markdown",
   "metadata": {},
   "source": [
    "### Transform it by trimming spaces and conforming salary values to numerical values. "
   ]
  },
  {
   "cell_type": "code",
   "execution_count": 3,
   "metadata": {},
   "outputs": [],
   "source": [
    "df['What industry do you work in?'] = df['What industry do you work in?'].str.strip()\n",
    "\n",
    "df['Job title'] = df['Job title'].str.strip()\n",
    "\n",
    "df['What is your annual salary?'] = df['What is your annual salary?'].str.replace(' ', '')\n",
    "\n",
    "df['What is your annual salary?'] = df['What is your annual salary?'].str.replace(',', '')\n",
    "\n",
    "df['What is your annual salary?'] = df['What is your annual salary?'].str.extract('(\\d+)', expand=False)\n",
    "\n",
    "df['NumericalSalary'] = df['What is your annual salary?'].str.isdigit()"
   ]
  },
  {
   "cell_type": "markdown",
   "metadata": {},
   "source": [
    "### Parse city, state and country values, then conform state values to upper case values, two-letter values."
   ]
  },
  {
   "cell_type": "code",
   "execution_count": 4,
   "metadata": {},
   "outputs": [
    {
     "name": "stdout",
     "output_type": "stream",
     "text": [
      "                    0     1     2\n",
      "0           Nashville    TN  None\n",
      "1             Madison    WI  None\n",
      "2           Las Vegas    NV  None\n",
      "3             Cardiff    UK  None\n",
      "4  Southeast Michigan  None  None\n"
     ]
    }
   ],
   "source": [
    "new = df[\"Where are you located? (City/state/country)\"].str.split(\",\", n = 2, expand = True) \n",
    "\n",
    "new[0] = new[0].str.strip()\n",
    "\n",
    "new[1] = new[1].str.strip()\n",
    "\n",
    "for x in range(len(new)):\n",
    "    if new[1][x] is not None and len(str(new[1][x])) > 2:\n",
    "        new[1][x] = None\n",
    "\n",
    "new[1] = new[1].str.upper() \n",
    "\n",
    "print(new.head())"
   ]
  },
  {
   "cell_type": "markdown",
   "metadata": {},
   "source": [
    "### Add City Column to Original Dataframe"
   ]
  },
  {
   "cell_type": "code",
   "execution_count": 5,
   "metadata": {},
   "outputs": [],
   "source": [
    "df['City'] = new[0]"
   ]
  },
  {
   "cell_type": "markdown",
   "metadata": {},
   "source": [
    "### The industries have been normalized in another CSV and imported for merging."
   ]
  },
  {
   "cell_type": "code",
   "execution_count": 6,
   "metadata": {},
   "outputs": [
    {
     "name": "stdout",
     "output_type": "stream",
     "text": [
      "             What industry do you work in?     Normalized\n",
      "0  Architecture, Engineering, Construction   Construction\n",
      "1                                  Biotech  Biotechnology\n",
      "2                               E-Commerce     E-Commerce\n",
      "3                     Facility maintenance    Maintenance\n",
      "4                            Manufacturing  Manufacturing\n"
     ]
    }
   ],
   "source": [
    "file = \"C:\\\\Users\\\\kboostri\\\\OneDrive - Schrafts's 2.0 LLC\\\\Documents\\\\Normalized Industry.csv\"\n",
    "\n",
    "df2 = pd.read_csv(file)\n",
    "\n",
    "print(df2.head())"
   ]
  },
  {
   "cell_type": "code",
   "execution_count": 7,
   "metadata": {},
   "outputs": [],
   "source": [
    "merge = df.merge(df2, on = 'What industry do you work in?', how = 'left')"
   ]
  },
  {
   "cell_type": "markdown",
   "metadata": {},
   "source": [
    "### Format the salary as a float so it can be calculated and then further filtered for only USD values and values over 5,000 USD (to avoid outliers). It is further sorted from most to least. "
   ]
  },
  {
   "cell_type": "code",
   "execution_count": 8,
   "metadata": {},
   "outputs": [
    {
     "name": "stdout",
     "output_type": "stream",
     "text": [
      "            Timestamp How old are you? What industry do you work in?  \\\n",
      "0  4/24/2019 11:43:21            35-44                    Government   \n",
      "1  4/24/2019 11:43:26            25-34       Environmental nonprofit   \n",
      "2  4/24/2019 11:43:27            18-24               Market Research   \n",
      "4  4/24/2019 11:43:29            25-34                    Healthcare   \n",
      "5  4/24/2019 11:43:29            25-34        Information Management   \n",
      "\n",
      "                                  Job title  What is your annual salary?  \\\n",
      "0          Talent Management Asst. Director                      75000.0   \n",
      "1                       Operations Director                      65000.0   \n",
      "2                 Market Research Assistant                      36330.0   \n",
      "4  Social worker (embedded in primary care)                      55000.0   \n",
      "5                      Associate Consultant                      45000.0   \n",
      "\n",
      "  Please indicate the currency Where are you located? (City/state/country)  \\\n",
      "0                          USD                               Nashville, TN   \n",
      "1                          USD                                 Madison, Wi   \n",
      "2                          USD                               Las Vegas, NV   \n",
      "4                          USD                     Southeast Michigan, USA   \n",
      "5                          USD                                 Seattle, WA   \n",
      "\n",
      "  How many years of post-college professional work experience do you have?  \\\n",
      "0                                      11 - 20 years                         \n",
      "1                                       8 - 10 years                         \n",
      "2                                        2 - 4 years                         \n",
      "4                                          5-7 years                         \n",
      "5                                       8 - 10 years                         \n",
      "\n",
      "  If your job title needs additional context, please clarify here:  \\\n",
      "0                                                NaN                 \n",
      "1                                                NaN                 \n",
      "2                                                NaN                 \n",
      "4                                                NaN                 \n",
      "5                                                NaN                 \n",
      "\n",
      "  If \"Other,\" please indicate the currency here:  NumericalSalary  \\\n",
      "0                                             NaN            True   \n",
      "1                                             NaN            True   \n",
      "2                                             NaN            True   \n",
      "4                                             NaN            True   \n",
      "5                                             NaN            True   \n",
      "\n",
      "                 City              Normalized  \n",
      "0           Nashville              Government  \n",
      "1             Madison              Non-Profit  \n",
      "2           Las Vegas                     NaN  \n",
      "4  Southeast Michigan              Healthcare  \n",
      "5             Seattle  Information Management  \n"
     ]
    },
    {
     "name": "stderr",
     "output_type": "stream",
     "text": [
      "C:\\Users\\kboostri\\AppData\\Local\\Continuum\\anaconda3\\lib\\site-packages\\ipykernel_launcher.py:3: SettingWithCopyWarning: \n",
      "A value is trying to be set on a copy of a slice from a DataFrame.\n",
      "Try using .loc[row_indexer,col_indexer] = value instead\n",
      "\n",
      "See the caveats in the documentation: http://pandas.pydata.org/pandas-docs/stable/user_guide/indexing.html#returning-a-view-versus-a-copy\n",
      "  This is separate from the ipykernel package so we can avoid doing imports until\n"
     ]
    }
   ],
   "source": [
    "USD = merge[merge['Please indicate the currency'] == 'USD'] \n",
    "\n",
    "USD['What is your annual salary?'] = USD['What is your annual salary?'].astype(float)\n",
    "\n",
    "USDnum = USD[(USD['NumericalSalary'] == True) & (USD['What is your annual salary?'] > 5000)] \n",
    "\n",
    "print(USDnum.head())"
   ]
  },
  {
   "cell_type": "code",
   "execution_count": 9,
   "metadata": {},
   "outputs": [
    {
     "name": "stdout",
     "output_type": "stream",
     "text": [
      "               Industry  Average Salary (USD)\n",
      "28          Electronics         210000.000000\n",
      "2        Administration         188416.120000\n",
      "54            Marketing         166833.333333\n",
      "67  Technology/Software         162235.115854\n",
      "49       Legal Services         159451.328537\n",
      "..                  ...                   ...\n",
      "68       Transportation          57216.666667\n",
      "66      Social Services          54000.000000\n",
      "75              Writing          53507.142857\n",
      "71            Warehouse          52342.250000\n",
      "11                 Arts          46388.571429\n",
      "\n",
      "[76 rows x 2 columns]\n"
     ]
    }
   ],
   "source": [
    "industry_salary_avg = pd.pivot_table(USDnum, values='What is your annual salary?', index ='Normalized',\n",
    "                    aggfunc=np.average, fill_value=0)\n",
    "\n",
    "industry_salary_avg.reset_index(inplace = True)\n",
    "\n",
    "industry_salary_avg.sort_values(by = ['What is your annual salary?'], ascending = False, inplace = True)\n",
    "\n",
    "industry_salary_avg.columns = ['Industry', 'Average Salary (USD)']\n",
    "\n",
    "print(industry_salary_avg)"
   ]
  },
  {
   "cell_type": "markdown",
   "metadata": {},
   "source": [
    "### Only the top five and bottom five are assigned to new dataframes and then plotted into a bar graph for analysis of top earning and bottom earning industries by salary (USD)."
   ]
  },
  {
   "cell_type": "code",
   "execution_count": 10,
   "metadata": {},
   "outputs": [],
   "source": [
    "top5 = industry_salary_avg.head(5)\n",
    "\n",
    "bottom5 = industry_salary_avg.tail(5)"
   ]
  },
  {
   "cell_type": "code",
   "execution_count": 11,
   "metadata": {},
   "outputs": [
    {
     "data": {
      "text/plain": [
       "(array([0, 1, 2, 3, 4]), <a list of 5 Text xticklabel objects>)"
      ]
     },
     "execution_count": 11,
     "metadata": {},
     "output_type": "execute_result"
    }
   ],
   "source": [
    "import matplotlib.pyplot as plt\n",
    "import matplotlib.ticker as mtick\n",
    "\n",
    "ax = top5.plot.bar(x = 'Industry', y = 'Average Salary (USD)', rot=0, figsize=(20,10), grid = True, legend=False, title =\"Top Five Average Salary by Industry\")\n",
    "\n",
    "fmt = '${x:,.0f}'\n",
    "tick = mtick.StrMethodFormatter(fmt)\n",
    "ax.yaxis.set_major_formatter(tick) \n",
    "plt.xticks(rotation=25)"
   ]
  },
  {
   "cell_type": "code",
   "execution_count": 91,
   "metadata": {},
   "outputs": [
    {
     "data": {
      "text/plain": [
       "(array([0, 1, 2, 3, 4]), <a list of 5 Text xticklabel objects>)"
      ]
     },
     "execution_count": 91,
     "metadata": {},
     "output_type": "execute_result"
    },
    {
     "data": {
      "image/png": "[encoded data removed]",
      "text/plain": [
       "<Figure size 1440x720 with 1 Axes>"
      ]
     },
     "metadata": {
      "needs_background": "light"
     },
     "output_type": "display_data"
    }
   ],
   "source": [
    "ax2 = bottom5.plot.bar(x = 'Industry', y = 'Average Salary (USD)', rot=0, figsize=(20,10), grid = True, legend=False, title =\"Bottom Five Average Salary by Industry\")\n",
    "\n",
    "fmt = '${x:,.0f}'\n",
    "tick = mtick.StrMethodFormatter(fmt)\n",
    "ax2.yaxis.set_major_formatter(tick) \n",
    "plt.xticks(rotation=25)"
   ]
  },
  {
   "cell_type": "markdown",
   "metadata": {},
   "source": [
    "## Normalizing Dataset Portion 2: Analyzing Salary by State"
   ]
  },
  {
   "cell_type": "markdown",
   "metadata": {},
   "source": [
    "### In In[73], we noticed that the states are not quite finished being normalized because some country abbreviations have been parsed out (i.e. UK). To assure that it is mapped to only US states, a CSV of state abbreviations and their state names will be imported and merged."
   ]
  },
  {
   "cell_type": "code",
   "execution_count": 13,
   "metadata": {},
   "outputs": [
    {
     "name": "stdout",
     "output_type": "stream",
     "text": [
      "   State Name State\n",
      "0     Alabama    AL\n",
      "1      Alaska    AK\n",
      "2     Arizona    AZ\n",
      "3    Arkansas    AR\n",
      "4  California    CA\n"
     ]
    }
   ],
   "source": [
    "file = \"https://raw.githubusercontent.com/jasonong/List-of-US-States/master/states.csv\"\n",
    "\n",
    "state = pd.read_csv(file)\n",
    "\n",
    "state.columns = ['State Name', 'State']\n",
    "\n",
    "print(state.head())"
   ]
  },
  {
   "cell_type": "markdown",
   "metadata": {},
   "source": [
    "### Remove NaN values that were not properly mapped to the state file."
   ]
  },
  {
   "cell_type": "code",
   "execution_count": 14,
   "metadata": {},
   "outputs": [
    {
     "name": "stdout",
     "output_type": "stream",
     "text": [
      "             Timestamp How old are you? What industry do you work in?  \\\n",
      "0   4/24/2019 11:43:21            35-44                    Government   \n",
      "1   4/24/2019 11:43:26            25-34       Environmental nonprofit   \n",
      "2   4/24/2019 11:43:27            18-24               Market Research   \n",
      "5   4/24/2019 11:43:29            25-34        Information Management   \n",
      "19  4/24/2019 11:43:41            25-34                         media   \n",
      "\n",
      "                           Job title  What is your annual salary?  \\\n",
      "0   Talent Management Asst. Director                      75000.0   \n",
      "1                Operations Director                      65000.0   \n",
      "2          Market Research Assistant                      36330.0   \n",
      "5               Associate Consultant                      45000.0   \n",
      "19          senior marketing manager                      90000.0   \n",
      "\n",
      "   Please indicate the currency Where are you located? (City/state/country)  \\\n",
      "0                           USD                               Nashville, TN   \n",
      "1                           USD                                 Madison, Wi   \n",
      "2                           USD                               Las Vegas, NV   \n",
      "5                           USD                                 Seattle, WA   \n",
      "19                          USD                              Washington, DC   \n",
      "\n",
      "   How many years of post-college professional work experience do you have?  \\\n",
      "0                                       11 - 20 years                         \n",
      "1                                        8 - 10 years                         \n",
      "2                                         2 - 4 years                         \n",
      "5                                        8 - 10 years                         \n",
      "19                                       8 - 10 years                         \n",
      "\n",
      "   If your job title needs additional context, please clarify here:  \\\n",
      "0                                                 NaN                 \n",
      "1                                                 NaN                 \n",
      "2                                                 NaN                 \n",
      "5                                                 NaN                 \n",
      "19                                                NaN                 \n",
      "\n",
      "   If \"Other,\" please indicate the currency here:  NumericalSalary  \\\n",
      "0                                              NaN            True   \n",
      "1                                              NaN            True   \n",
      "2                                              NaN            True   \n",
      "5                                              NaN            True   \n",
      "19                                             NaN            True   \n",
      "\n",
      "          City State            State Name  \n",
      "0    Nashville    TN             Tennessee  \n",
      "1      Madison    WI             Wisconsin  \n",
      "2    Las Vegas    NV                Nevada  \n",
      "5      Seattle    WA            Washington  \n",
      "19  Washington    DC  District of Columbia  \n"
     ]
    },
    {
     "name": "stderr",
     "output_type": "stream",
     "text": [
      "C:\\Users\\kboostri\\AppData\\Local\\Continuum\\anaconda3\\lib\\site-packages\\ipykernel_launcher.py:7: SettingWithCopyWarning: \n",
      "A value is trying to be set on a copy of a slice from a DataFrame.\n",
      "Try using .loc[row_indexer,col_indexer] = value instead\n",
      "\n",
      "See the caveats in the documentation: http://pandas.pydata.org/pandas-docs/stable/user_guide/indexing.html#returning-a-view-versus-a-copy\n",
      "  import sys\n"
     ]
    }
   ],
   "source": [
    "df['State'] = new[1]\n",
    "\n",
    "merge2 = df.merge(state, on = 'State', how = 'left')\n",
    "\n",
    "USD2 = merge2[merge2['Please indicate the currency'] == 'USD'] \n",
    "\n",
    "USD2['What is your annual salary?'] = USD2['What is your annual salary?'].astype(float)\n",
    "\n",
    "USDnum2 = USD2[(USD2['NumericalSalary'] == True) & (USD2['What is your annual salary?'] > 5000) & (USD2['State Name'].notnull())] \n",
    "\n",
    "print(USDnum2.head())"
   ]
  },
  {
   "cell_type": "code",
   "execution_count": 15,
   "metadata": {},
   "outputs": [
    {
     "name": "stdout",
     "output_type": "stream",
     "text": [
      "         State  Average Salary (USD)\n",
      "1       Alaska         190693.687500\n",
      "4   California         121925.713269\n",
      "32    New York         113040.330516\n",
      "47  Washington         104030.028398\n",
      "43       Texas         102717.255009\n"
     ]
    }
   ],
   "source": [
    "state_salary_avg = pd.pivot_table(USDnum2, values='What is your annual salary?', index ='State Name',\n",
    "                    aggfunc=np.average, fill_value=0)\n",
    "\n",
    "state_salary_avg.reset_index(inplace = True)\n",
    "\n",
    "state_salary_avg.sort_values(by = ['What is your annual salary?'], ascending = False, inplace = True)\n",
    "\n",
    "state_salary_avg.columns = ['State', 'Average Salary (USD)']\n",
    "\n",
    "print(state_salary_avg.head())"
   ]
  },
  {
   "cell_type": "code",
   "execution_count": 16,
   "metadata": {},
   "outputs": [],
   "source": [
    "top5sal = state_salary_avg.head(5)\n",
    "\n",
    "bottom5sal = state_salary_avg.tail(5)"
   ]
  },
  {
   "cell_type": "code",
   "execution_count": 17,
   "metadata": {},
   "outputs": [
    {
     "data": {
      "text/plain": [
       "(array([0, 1, 2, 3, 4]), <a list of 5 Text xticklabel objects>)"
      ]
     },
     "execution_count": 17,
     "metadata": {},
     "output_type": "execute_result"
    },
    {
     "data": {
      "image/png": "[encoded data removed]",
      "text/plain": [
       "<Figure size 1440x720 with 1 Axes>"
      ]
     },
     "metadata": {
      "needs_background": "light"
     },
     "output_type": "display_data"
    }
   ],
   "source": [
    "ax3 = top5sal.plot.bar(x = 'State', y = 'Average Salary (USD)', rot=0, figsize=(20,10), grid = True, legend=False, title =\"Top Five Average Salary by State\")\n",
    "\n",
    "fmt = '${x:,.0f}'\n",
    "tick = mtick.StrMethodFormatter(fmt)\n",
    "ax3.yaxis.set_major_formatter(tick) \n",
    "plt.xticks(rotation=25)"
   ]
  },
  {
   "cell_type": "code",
   "execution_count": 18,
   "metadata": {},
   "outputs": [
    {
     "data": {
      "text/plain": [
       "(array([0, 1, 2, 3, 4]), <a list of 5 Text xticklabel objects>)"
      ]
     },
     "execution_count": 18,
     "metadata": {},
     "output_type": "execute_result"
    },
    {
     "data": {
      "image/png": "[encoded data removed]",
      "text/plain": [
       "<Figure size 1440x720 with 1 Axes>"
      ]
     },
     "metadata": {
      "needs_background": "light"
     },
     "output_type": "display_data"
    }
   ],
   "source": [
    "ax4 = bottom5sal.plot.bar(x = 'State', y = 'Average Salary (USD)', rot=0, figsize=(20,10), grid = True, legend=False, title =\"Bottom Five Average Salary by State\")\n",
    "\n",
    "fmt = '${x:,.0f}'\n",
    "tick = mtick.StrMethodFormatter(fmt)\n",
    "ax4.yaxis.set_major_formatter(tick) \n",
    "plt.xticks(rotation=25)"
   ]
  },
  {
   "cell_type": "markdown",
   "metadata": {},
   "source": [
    "### Normalizing Dataset Portion 3: Normalizing Years of Experience to Look Uniform"
   ]
  },
  {
   "cell_type": "code",
   "execution_count": 19,
   "metadata": {},
   "outputs": [
    {
     "name": "stdout",
     "output_type": "stream",
     "text": [
      "         Experience  Average Salary (USD)\n",
      "3       21-30 years         143229.872659\n",
      "5  41 years or more         139912.820513\n",
      "4       31-40 years         134421.083682\n",
      "1       11-20 years         111682.255390\n",
      "7        8-10 years          93276.270968\n"
     ]
    },
    {
     "name": "stderr",
     "output_type": "stream",
     "text": [
      "C:\\Users\\kboostri\\AppData\\Local\\Continuum\\anaconda3\\lib\\site-packages\\ipykernel_launcher.py:1: SettingWithCopyWarning: \n",
      "A value is trying to be set on a copy of a slice from a DataFrame.\n",
      "Try using .loc[row_indexer,col_indexer] = value instead\n",
      "\n",
      "See the caveats in the documentation: http://pandas.pydata.org/pandas-docs/stable/user_guide/indexing.html#returning-a-view-versus-a-copy\n",
      "  \"\"\"Entry point for launching an IPython kernel.\n"
     ]
    }
   ],
   "source": [
    "USDnum2['How many years of post-college professional work experience do you have?'] = USDnum2['How many years of post-college professional work experience do you have?'].str.replace(' - ', '-')\n",
    "\n",
    "exp_salary_avg = pd.pivot_table(USDnum2, values='What is your annual salary?', index ='How many years of post-college professional work experience do you have?',\n",
    "                    aggfunc=np.average, fill_value=0)\n",
    "\n",
    "exp_salary_avg.reset_index(inplace = True)\n",
    "\n",
    "exp_salary_avg.sort_values(by = ['What is your annual salary?'], ascending = False, inplace = True)\n",
    "\n",
    "exp_salary_avg.columns = ['Experience', 'Average Salary (USD)']\n",
    "\n",
    "print(exp_salary_avg.head())"
   ]
  },
  {
   "cell_type": "code",
   "execution_count": 20,
   "metadata": {},
   "outputs": [
    {
     "data": {
      "text/plain": [
       "(array([0, 1, 2, 3, 4, 5, 6, 7]), <a list of 8 Text xticklabel objects>)"
      ]
     },
     "execution_count": 20,
     "metadata": {},
     "output_type": "execute_result"
    },
    {
     "data": {
      "image/png": "[encoded data removed]",
      "text/plain": [
       "<Figure size 1440x720 with 1 Axes>"
      ]
     },
     "metadata": {
      "needs_background": "light"
     },
     "output_type": "display_data"
    }
   ],
   "source": [
    "ax4 = exp_salary_avg.plot.bar(x = 'Experience', y = 'Average Salary (USD)', rot=0, figsize=(20,10), grid = True, legend=False, title =\"Average Salary by Experience\")\n",
    "\n",
    "fmt = '${x:,.0f}'\n",
    "tick = mtick.StrMethodFormatter(fmt)\n",
    "ax4.yaxis.set_major_formatter(tick) \n",
    "plt.xticks(rotation=25)"
   ]
  }
 ],
 "metadata": {
  "kernelspec": {
   "display_name": "Python 3",
   "language": "python",
   "name": "python3"
  },
  "language_info": {
   "codemirror_mode": {
    "name": "ipython",
    "version": 3
   },
   "file_extension": ".py",
   "mimetype": "text/x-python",
   "name": "python",
   "nbconvert_exporter": "python",
   "pygments_lexer": "ipython3",
   "version": "3.7.4"
  }
 },
 "nbformat": 4,
 "nbformat_minor": 2
}
